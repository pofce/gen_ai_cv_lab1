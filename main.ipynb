{
  "cells": [
    {
      "cell_type": "code",
      "source": [
        "import torch.nn as nn\n",
        "import torch.optim as optim\n",
        "import matplotlib.pyplot as plt\n",
        "\n",
        "device = torch.device('cuda' if torch.cuda.is_available() else 'cpu')"
      ],
      "metadata": {
        "id": "BxzKMAvjMuwy"
      },
      "id": "BxzKMAvjMuwy",
      "execution_count": 1,
      "outputs": []
    },
    {
      "cell_type": "markdown",
      "source": [
        "### Data Preparation"
      ],
      "metadata": {
        "id": "MKneM2qPKdoF"
      },
      "id": "MKneM2qPKdoF"
    },
    {
      "cell_type": "code",
      "execution_count": 2,
      "id": "initial_id",
      "metadata": {
        "collapsed": true,
        "id": "initial_id"
      },
      "outputs": [],
      "source": [
        "import torch\n",
        "import torchvision\n",
        "from torchvision import datasets\n",
        "import torchvision.transforms as transforms\n",
        "from torch.utils.data import DataLoader, random_split\n",
        "\n",
        "\n",
        "def download_cifar10_data():\n",
        "    train_dataset = datasets.CIFAR10( root='./data', train=True, download=True)\n",
        "    test_dataset = datasets.CIFAR10(root='./data', train=False, download=True)\n",
        "    return train_dataset, test_dataset\n",
        "\n",
        "\n",
        "\n",
        "def prepare_cifar10_data(transform, batch_size=64, val_split=0.2):\n",
        "\n",
        "    train_dataset = datasets.CIFAR10(root='./data', train=True, transform=transform)\n",
        "    test_dataset = datasets.CIFAR10(root='./data', train=False, transform=transform)\n",
        "\n",
        "    train_size = int((1 - val_split) * len(train_dataset))\n",
        "    val_size = len(train_dataset) - train_size\n",
        "\n",
        "    train_dataset, val_dataset = random_split(train_dataset, [train_size, val_size])\n",
        "\n",
        "    train_loader = DataLoader(train_dataset, batch_size=batch_size, shuffle=True)\n",
        "    val_loader = DataLoader(val_dataset, batch_size=batch_size, shuffle=False)\n",
        "    test_loader = DataLoader(test_dataset, batch_size=batch_size, shuffle=False)\n",
        "\n",
        "    return train_loader, val_loader, test_loader"
      ]
    },
    {
      "cell_type": "code",
      "source": [
        "download_cifar10_data()"
      ],
      "metadata": {
        "id": "eRTvhFsNKsXD",
        "outputId": "78522a97-6670-4311-e266-f656a3ea3058",
        "colab": {
          "base_uri": "https://localhost:8080/"
        }
      },
      "id": "eRTvhFsNKsXD",
      "execution_count": 3,
      "outputs": [
        {
          "output_type": "stream",
          "name": "stdout",
          "text": [
            "Downloading https://www.cs.toronto.edu/~kriz/cifar-10-python.tar.gz to ./data/cifar-10-python.tar.gz\n"
          ]
        },
        {
          "output_type": "stream",
          "name": "stderr",
          "text": [
            "100%|██████████| 170M/170M [00:11<00:00, 15.0MB/s]\n"
          ]
        },
        {
          "output_type": "stream",
          "name": "stdout",
          "text": [
            "Extracting ./data/cifar-10-python.tar.gz to ./data\n",
            "Files already downloaded and verified\n"
          ]
        },
        {
          "output_type": "execute_result",
          "data": {
            "text/plain": [
              "(Dataset CIFAR10\n",
              "     Number of datapoints: 50000\n",
              "     Root location: ./data\n",
              "     Split: Train,\n",
              " Dataset CIFAR10\n",
              "     Number of datapoints: 10000\n",
              "     Root location: ./data\n",
              "     Split: Test)"
            ]
          },
          "metadata": {},
          "execution_count": 3
        }
      ]
    },
    {
      "cell_type": "markdown",
      "source": [
        "### Autoencoder"
      ],
      "metadata": {
        "id": "OAQ0_hxoKi5W"
      },
      "id": "OAQ0_hxoKi5W"
    },
    {
      "cell_type": "code",
      "source": [
        "class Autoencoder(nn.Module):\n",
        "    def __init__(self):\n",
        "        super(Autoencoder, self).__init__()\n",
        "        self.encoder = nn.Sequential(\n",
        "            nn.Conv2d(3, 12, 4, stride=2, padding=1),\n",
        "            nn.ReLU(),\n",
        "            nn.Conv2d(12, 24, 4, stride=2, padding=1),\n",
        "            nn.ReLU(),\n",
        "            nn.Conv2d(24, 48, 4, stride=2, padding=1),\n",
        "            nn.ReLU(),\n",
        "        )\n",
        "        self.decoder = nn.Sequential(\n",
        "            nn.ConvTranspose2d(48, 24, 4, stride=2, padding=1),\n",
        "            nn.ReLU(),\n",
        "            nn.ConvTranspose2d(24, 12, 4, stride=2, padding=1),\n",
        "            nn.ReLU(),\n",
        "            nn.ConvTranspose2d(12, 3, 4, stride=2, padding=1),\n",
        "            nn.Sigmoid(),\n",
        "        )\n",
        "\n",
        "    def forward(self, x):\n",
        "        encoded = self.encoder(x)\n",
        "        decoded = self.decoder(encoded)\n",
        "        return decoded"
      ],
      "metadata": {
        "id": "V9Dy0W1kKyyy"
      },
      "id": "V9Dy0W1kKyyy",
      "execution_count": 14,
      "outputs": []
    },
    {
      "cell_type": "code",
      "source": [
        "def train_model(model, optimizer, num_epochs=25, device='cpu'):\n",
        "    best_loss = float('inf')\n",
        "    best_model_wts = None\n",
        "\n",
        "    for epoch in range(num_epochs):\n",
        "        print(f'Epoch {epoch+1}/{num_epochs}')\n",
        "        # Each epoch has a training and validation phase\n",
        "        for phase in ['train', 'val']:\n",
        "            if phase == 'train':\n",
        "                model.train()  # Set model to training mode\n",
        "                dataloader = train_loader\n",
        "            else:\n",
        "                model.eval()   # Set model to evaluate mode\n",
        "                dataloader = val_loader\n",
        "\n",
        "            running_loss = 0.0\n",
        "\n",
        "            # Iterate over data.\n",
        "            for inputs, _ in dataloader:\n",
        "                inputs = inputs.to(device)\n",
        "                # zero the parameter gradients\n",
        "                optimizer.zero_grad()\n",
        "\n",
        "                # forward\n",
        "                with torch.set_grad_enabled(phase == 'train'):\n",
        "                    outputs = model(inputs)\n",
        "                    loss = ((outputs - inputs) ** 2).mean()  # For autoencoder, compare outputs with inputs\n",
        "\n",
        "                    # backward + optimize only if in training phase\n",
        "                    if phase == 'train':\n",
        "                        loss.backward()\n",
        "                        optimizer.step()\n",
        "\n",
        "                # statistics\n",
        "                running_loss += loss.item() * inputs.size(0)\n",
        "\n",
        "            epoch_loss = running_loss / len(dataloader.dataset)\n",
        "\n",
        "            print(f'{phase} Loss: {epoch_loss:.4f}')\n",
        "\n",
        "            # deep copy the model\n",
        "            if phase == 'val' and epoch_loss < best_loss:\n",
        "                best_loss = epoch_loss\n",
        "                best_model_wts = model.state_dict()\n",
        "                # Save the best model checkpoint\n",
        "                torch.save(model.state_dict(), 'best_model.pth')\n",
        "    # load best model weights\n",
        "    if best_model_wts is not None:\n",
        "        model.load_state_dict(best_model_wts)\n",
        "    return model"
      ],
      "metadata": {
        "id": "OCrXNGATNIKP"
      },
      "id": "OCrXNGATNIKP",
      "execution_count": 15,
      "outputs": []
    },
    {
      "cell_type": "code",
      "source": [
        "def test_and_visualize(model, test_loader, device='cpu', n_visualize=5):\n",
        "    model.eval()  # Set model to evaluation mode\n",
        "    running_loss = 0.0\n",
        "\n",
        "    # Calculate the test loss\n",
        "    with torch.no_grad():\n",
        "        for inputs, _ in test_loader:\n",
        "            inputs = inputs.to(device)\n",
        "            outputs = model(inputs)\n",
        "            loss = ((outputs - inputs) ** 2).mean()\n",
        "            running_loss += loss.item() * inputs.size(0)\n",
        "\n",
        "    test_loss = running_loss / len(test_loader.dataset)\n",
        "    print(f'Test Loss: {test_loss:.4f}')\n",
        "\n",
        "    # Visualization\n",
        "    dataiter = iter(test_loader)\n",
        "    images, _ = next(dataiter)\n",
        "    images = images.to(device)\n",
        "\n",
        "    with torch.no_grad():\n",
        "        reconstructed = model(images)\n",
        "\n",
        "    images = images.cpu()\n",
        "    reconstructed = reconstructed.cpu()\n",
        "\n",
        "    plt.figure(figsize=(10, 4.5))\n",
        "    for i in range(n_visualize):\n",
        "        # Original images\n",
        "        ax = plt.subplot(2, n_visualize, i + 1)\n",
        "        plt.imshow(images[i].permute(1, 2, 0))\n",
        "        plt.title(\"Original\")\n",
        "        plt.axis('off')\n",
        "\n",
        "        # Reconstructed images\n",
        "        ax = plt.subplot(2, n_visualize, i + 1 + n_visualize)\n",
        "        plt.imshow(reconstructed[i].permute(1, 2, 0))\n",
        "        plt.title(\"Reconstructed\")\n",
        "        plt.axis('off')\n",
        "\n",
        "    plt.show()\n",
        "\n",
        "    return test_loss"
      ],
      "metadata": {
        "id": "TY7Un48INItx"
      },
      "id": "TY7Un48INItx",
      "execution_count": 16,
      "outputs": []
    },
    {
      "cell_type": "code",
      "source": [
        "batch_size = 64\n",
        "learning_rate = 1e-3\n",
        "num_epochs = 20\n",
        "\n",
        "transform = transforms.Compose([\n",
        "    transforms.ToTensor(),\n",
        "    transforms.Normalize(mean=[0.4914, 0.4822, 0.4465],\n",
        "                         std=[0.2023, 0.1994, 0.2010]),\n",
        "])\n",
        "\n",
        "train_loader, val_loader, test_loader = prepare_cifar10_data(transform, batch_size)\n",
        "\n",
        "model = Autoencoder().to(device)\n",
        "optimizer = optim.Adam(model.parameters(), lr=learning_rate)\n",
        "\n",
        "model = train_model(model, optimizer, num_epochs=num_epochs, device=device)\n",
        "\n",
        "test_loss = test_and_visualize(model, test_loader, device, n_visualize=5)"
      ],
      "metadata": {
        "id": "tOwMl11BNOns",
        "outputId": "66f8c74c-c9f3-49bc-d0ca-806fa1d1cbf5",
        "colab": {
          "base_uri": "https://localhost:8080/",
          "height": 1000
        }
      },
      "id": "tOwMl11BNOns",
      "execution_count": 17,
      "outputs": [
        {
          "output_type": "stream",
          "name": "stdout",
          "text": [
            "Epoch 1/20\n",
            "train Loss: 1.0733\n",
            "val Loss: 0.9726\n",
            "Epoch 2/20\n",
            "train Loss: 0.9610\n",
            "val Loss: 0.9468\n",
            "Epoch 3/20\n",
            "train Loss: 0.9458\n",
            "val Loss: 0.9379\n",
            "Epoch 4/20\n",
            "train Loss: 0.9391\n",
            "val Loss: 0.9327\n",
            "Epoch 5/20\n",
            "train Loss: 0.9341\n",
            "val Loss: 0.9288\n",
            "Epoch 6/20\n",
            "train Loss: 0.9317\n",
            "val Loss: 0.9266\n",
            "Epoch 7/20\n",
            "train Loss: 0.9300\n",
            "val Loss: 0.9255\n",
            "Epoch 8/20\n",
            "train Loss: 0.9289\n",
            "val Loss: 0.9243\n",
            "Epoch 9/20\n",
            "train Loss: 0.9279\n",
            "val Loss: 0.9235\n",
            "Epoch 10/20\n",
            "train Loss: 0.9270\n",
            "val Loss: 0.9222\n",
            "Epoch 11/20\n",
            "train Loss: 0.9258\n",
            "val Loss: 0.9213\n",
            "Epoch 12/20\n",
            "train Loss: 0.9252\n",
            "val Loss: 0.9207\n",
            "Epoch 13/20\n",
            "train Loss: 0.9246\n",
            "val Loss: 0.9204\n",
            "Epoch 14/20\n",
            "train Loss: 0.9240\n",
            "val Loss: 0.9198\n",
            "Epoch 15/20\n",
            "train Loss: 0.9233\n",
            "val Loss: 0.9198\n",
            "Epoch 16/20\n",
            "train Loss: 0.9226\n",
            "val Loss: 0.9184\n",
            "Epoch 17/20\n",
            "train Loss: 0.9221\n",
            "val Loss: 0.9181\n",
            "Epoch 18/20\n",
            "train Loss: 0.9216\n",
            "val Loss: 0.9177\n",
            "Epoch 19/20\n",
            "train Loss: 0.9213\n",
            "val Loss: 0.9171\n",
            "Epoch 20/20\n",
            "train Loss: 0.9209\n",
            "val Loss: 0.9167\n"
          ]
        },
        {
          "output_type": "stream",
          "name": "stderr",
          "text": [
            "WARNING:matplotlib.image:Clipping input data to the valid range for imshow with RGB data ([0..1] for floats or [0..255] for integers).\n",
            "WARNING:matplotlib.image:Clipping input data to the valid range for imshow with RGB data ([0..1] for floats or [0..255] for integers).\n",
            "WARNING:matplotlib.image:Clipping input data to the valid range for imshow with RGB data ([0..1] for floats or [0..255] for integers).\n",
            "WARNING:matplotlib.image:Clipping input data to the valid range for imshow with RGB data ([0..1] for floats or [0..255] for integers).\n",
            "WARNING:matplotlib.image:Clipping input data to the valid range for imshow with RGB data ([0..1] for floats or [0..255] for integers).\n"
          ]
        },
        {
          "output_type": "stream",
          "name": "stdout",
          "text": [
            "Test Loss: 0.9059\n"
          ]
        },
        {
          "output_type": "display_data",
          "data": {
            "text/plain": [
              "<Figure size 1000x450 with 10 Axes>"
            ],
            "image/png": "[encoded data removed]"
          },
          "metadata": {}
        }
      ]
    },
    {
      "cell_type": "code",
      "source": [],
      "metadata": {
        "id": "ysVVzd5vSig8"
      },
      "id": "ysVVzd5vSig8",
      "execution_count": null,
      "outputs": []
    }
  ],
  "metadata": {
    "kernelspec": {
      "display_name": "Python 3",
      "name": "python3"
    },
    "language_info": {
      "codemirror_mode": {
        "name": "ipython",
        "version": 2
      },
      "file_extension": ".py",
      "mimetype": "text/x-python",
      "name": "python",
      "nbconvert_exporter": "python",
      "pygments_lexer": "ipython2",
      "version": "2.7.6"
    },
    "colab": {
      "provenance": [],
      "machine_shape": "hm"
    }
  },
  "nbformat": 4,
  "nbformat_minor": 5
}