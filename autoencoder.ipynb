{
 "cells": [
  {
   "cell_type": "code",
   "id": "initial_id",
   "metadata": {
    "collapsed": true,
    "ExecuteTime": {
     "end_time": "2024-12-04T22:32:39.974099Z",
     "start_time": "2024-12-04T22:32:38.510412Z"
    }
   },
   "source": [
    "import torch\n",
    "import torch.optim as optim\n",
    "import torchvision.transforms as transforms\n",
    "from torch.utils.tensorboard import SummaryWriter\n",
    "\n",
    "from utils import prepare_cifar10_data, train_model, evaluate_model\n",
    "from models import Autoencoder, compute_loss_autoencoder"
   ],
   "outputs": [],
   "execution_count": 1
  },
  {
   "metadata": {
    "ExecuteTime": {
     "end_time": "2024-12-04T22:32:40.861129Z",
     "start_time": "2024-12-04T22:32:39.980162Z"
    }
   },
   "cell_type": "code",
   "source": [
    "batch_size = 64\n",
    "learning_rate = 1e-3\n",
    "num_epochs = 20\n",
    "device = torch.device('cuda' if torch.cuda.is_available() else 'cpu')\n",
    "\n",
    "transform = transforms.Compose([transforms.ToTensor(), transforms.Normalize(mean=[0.4914, 0.4822, 0.4465], std=[0.2023, 0.1994, 0.2010])])\n",
    "train_loader, val_loader, test_loader = prepare_cifar10_data(transform, batch_size)"
   ],
   "id": "ea4c0a68dd7b0d49",
   "outputs": [],
   "execution_count": 2
  },
  {
   "metadata": {
    "ExecuteTime": {
     "end_time": "2024-12-04T22:38:24.661487Z",
     "start_time": "2024-12-04T22:32:40.862100Z"
    }
   },
   "cell_type": "code",
   "source": [
    "writer = SummaryWriter(log_dir=f'runs/AE')\n",
    "autoencoder_model = Autoencoder().to(device)\n",
    "optimizer = optim.Adam(autoencoder_model.parameters(), lr=learning_rate)\n",
    "\n",
    "trained_model = train_model(\n",
    "    writer=writer,\n",
    "    model=autoencoder_model,\n",
    "    train_loader=train_loader,\n",
    "    val_loader=val_loader,\n",
    "    optimizer=optimizer,\n",
    "    compute_loss=compute_loss_autoencoder,\n",
    "    num_epochs=num_epochs,\n",
    "    device=device\n",
    ")"
   ],
   "id": "a4507447c1989f09",
   "outputs": [
    {
     "name": "stdout",
     "output_type": "stream",
     "text": [
      "Epoch 1/20\n",
      "train Loss: 1.0690\n",
      "val Loss: 0.9787\n",
      "Epoch 2/20\n",
      "train Loss: 0.9656\n",
      "val Loss: 0.9498\n",
      "Epoch 3/20\n",
      "train Loss: 0.9501\n",
      "val Loss: 0.9409\n",
      "Epoch 4/20\n",
      "train Loss: 0.9430\n",
      "val Loss: 0.9349\n",
      "Epoch 5/20\n",
      "train Loss: 0.9382\n",
      "val Loss: 0.9299\n",
      "Epoch 6/20\n",
      "train Loss: 0.9333\n",
      "val Loss: 0.9274\n",
      "Epoch 7/20\n",
      "train Loss: 0.9310\n",
      "val Loss: 0.9252\n",
      "Epoch 8/20\n",
      "train Loss: 0.9296\n",
      "val Loss: 0.9239\n",
      "Epoch 9/20\n",
      "train Loss: 0.9286\n",
      "val Loss: 0.9229\n",
      "Epoch 10/20\n",
      "train Loss: 0.9278\n",
      "val Loss: 0.9223\n",
      "Epoch 11/20\n",
      "train Loss: 0.9271\n",
      "val Loss: 0.9218\n",
      "Epoch 12/20\n",
      "train Loss: 0.9266\n",
      "val Loss: 0.9214\n",
      "Epoch 13/20\n",
      "train Loss: 0.9261\n",
      "val Loss: 0.9211\n",
      "Epoch 14/20\n",
      "train Loss: 0.9255\n",
      "val Loss: 0.9201\n",
      "Epoch 15/20\n",
      "train Loss: 0.9247\n",
      "val Loss: 0.9194\n",
      "Epoch 16/20\n",
      "train Loss: 0.9241\n",
      "val Loss: 0.9185\n",
      "Epoch 17/20\n",
      "train Loss: 0.9237\n",
      "val Loss: 0.9184\n",
      "Epoch 18/20\n",
      "train Loss: 0.9232\n",
      "val Loss: 0.9177\n",
      "Epoch 19/20\n",
      "train Loss: 0.9228\n",
      "val Loss: 0.9175\n",
      "Epoch 20/20\n",
      "train Loss: 0.9222\n",
      "val Loss: 0.9168\n"
     ]
    }
   ],
   "execution_count": 3
  },
  {
   "metadata": {
    "ExecuteTime": {
     "end_time": "2024-12-04T22:38:27.031401Z",
     "start_time": "2024-12-04T22:38:24.663478Z"
    }
   },
   "cell_type": "code",
   "source": [
    "test_loss = evaluate_model(\n",
    "    writer=writer,\n",
    "    model=trained_model,\n",
    "    test_loader=test_loader,\n",
    "    compute_loss=compute_loss_autoencoder,\n",
    "    device=device\n",
    ")"
   ],
   "id": "fd6b0ddaf92ea874",
   "outputs": [
    {
     "name": "stdout",
     "output_type": "stream",
     "text": [
      "Test Loss: 0.9070\n"
     ]
    }
   ],
   "execution_count": 4
  },
  {
   "metadata": {
    "ExecuteTime": {
     "end_time": "2024-12-04T22:38:27.224629Z",
     "start_time": "2024-12-04T22:38:27.032443Z"
    }
   },
   "cell_type": "code",
   "source": [
    "import matplotlib.pyplot as plt \n",
    "\n",
    "trained_model.eval()\n",
    "\n",
    "dataiter = iter(test_loader)\n",
    "images, _ = next(dataiter)\n",
    "images = images.to(device)\n",
    "\n",
    "with torch.no_grad():\n",
    "    reconstructed = trained_model(images)\n",
    "\n",
    "images = images.cpu()\n",
    "reconstructed = reconstructed.cpu()\n",
    "n_visualize = 5\n",
    "\n",
    "plt.figure(figsize=(10, 4.5))\n",
    "for i in range(n_visualize):\n",
    "    # Original images\n",
    "    ax = plt.subplot(2, n_visualize, i + 1)\n",
    "    plt.imshow(images[i].permute(1, 2, 0))\n",
    "    plt.title(\"Original\")\n",
    "    plt.axis('off')\n",
    "\n",
    "    # Reconstructed images\n",
    "    ax = plt.subplot(2, n_visualize, i + 1 + n_visualize)\n",
    "    plt.imshow(reconstructed[i].permute(1, 2, 0))\n",
    "    plt.title(\"Reconstructed\")\n",
    "    plt.axis('off')\n",
    "\n",
    "plt.show()"
   ],
   "id": "4685b8f09385d75d",
   "outputs": [
    {
     "name": "stderr",
     "output_type": "stream",
     "text": [
      "Clipping input data to the valid range for imshow with RGB data ([0..1] for floats or [0..255] for integers). Got range [-2.1770618..2.6952004].\n",
      "Clipping input data to the valid range for imshow with RGB data ([0..1] for floats or [0..255] for integers). Got range [-2.4290657..2.5976489].\n",
      "Clipping input data to the valid range for imshow with RGB data ([0..1] for floats or [0..255] for integers). Got range [-2.351526..2.6952004].\n",
      "Clipping input data to the valid range for imshow with RGB data ([0..1] for floats or [0..255] for integers). Got range [-1.7692488..2.3440151].\n",
      "Clipping input data to the valid range for imshow with RGB data ([0..1] for floats or [0..255] for integers). Got range [-2.2933714..1.908451].\n"
     ]
    },
    {
     "data": {
      "text/plain": [
       "<Figure size 1000x450 with 10 Axes>"
      ],
      "image/png": "[encoded data removed]"
     },
     "metadata": {},
     "output_type": "display_data"
    }
   ],
   "execution_count": 5
  },
  {
   "metadata": {
    "ExecuteTime": {
     "end_time": "2024-12-04T22:38:27.227872Z",
     "start_time": "2024-12-04T22:38:27.225767Z"
    }
   },
   "cell_type": "code",
   "source": "",
   "id": "790fb322868ca921",
   "outputs": [],
   "execution_count": 5
  }
 ],
 "metadata": {
  "kernelspec": {
   "display_name": "Python 3",
   "language": "python",
   "name": "python3"
  },
  "language_info": {
   "codemirror_mode": {
    "name": "ipython",
    "version": 2
   },
   "file_extension": ".py",
   "mimetype": "text/x-python",
   "name": "python",
   "nbconvert_exporter": "python",
   "pygments_lexer": "ipython2",
   "version": "2.7.6"
  }
 },
 "nbformat": 4,
 "nbformat_minor": 5
}
