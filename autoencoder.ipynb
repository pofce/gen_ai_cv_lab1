{
 "cells": [
  {
   "cell_type": "code",
   "id": "initial_id",
   "metadata": {
    "collapsed": true,
    "ExecuteTime": {
     "end_time": "2024-12-04T14:06:04.464090Z",
     "start_time": "2024-12-04T14:06:02.751552Z"
    }
   },
   "source": [
    "import torch\n",
    "import torch.optim as optim\n",
    "import torchvision.transforms as transforms\n",
    "from torch.utils.tensorboard import SummaryWriter\n",
    "\n",
    "from utils import prepare_cifar10_data, train_model, evaluate_model\n",
    "from models import Autoencoder, compute_loss_autoencoder"
   ],
   "outputs": [],
   "execution_count": 1
  },
  {
   "metadata": {
    "ExecuteTime": {
     "end_time": "2024-12-04T14:06:05.368093Z",
     "start_time": "2024-12-04T14:06:04.475683Z"
    }
   },
   "cell_type": "code",
   "source": [
    "batch_size = 64\n",
    "learning_rate = 1e-3\n",
    "num_epochs = 20\n",
    "device = torch.device('cuda' if torch.cuda.is_available() else 'cpu')\n",
    "\n",
    "transform = transforms.Compose([transforms.ToTensor(), transforms.Normalize(mean=[0.4914, 0.4822, 0.4465], std=[0.2023, 0.1994, 0.2010])])\n",
    "train_loader, val_loader, test_loader = prepare_cifar10_data(transform, batch_size)"
   ],
   "id": "ea4c0a68dd7b0d49",
   "outputs": [],
   "execution_count": 2
  },
  {
   "metadata": {
    "ExecuteTime": {
     "end_time": "2024-12-04T14:11:52.248652Z",
     "start_time": "2024-12-04T14:06:05.369036Z"
    }
   },
   "cell_type": "code",
   "source": [
    "writer = SummaryWriter(log_dir=f'runs/ae')\n",
    "autoencoder_model = Autoencoder().to(device)\n",
    "optimizer = optim.Adam(autoencoder_model.parameters(), lr=learning_rate)\n",
    "\n",
    "trained_model = train_model(\n",
    "    writer=writer,\n",
    "    model=autoencoder_model,\n",
    "    train_loader=train_loader,\n",
    "    val_loader=val_loader,\n",
    "    optimizer=optimizer,\n",
    "    compute_loss=compute_loss_autoencoder,\n",
    "    num_epochs=num_epochs,\n",
    "    device=device\n",
    ")"
   ],
   "id": "a4507447c1989f09",
   "outputs": [
    {
     "name": "stdout",
     "output_type": "stream",
     "text": [
      "Epoch 1/20\n",
      "train Loss: 1.0886\n",
      "val Loss: 0.9733\n",
      "Epoch 2/20\n",
      "train Loss: 0.9615\n",
      "val Loss: 0.9509\n",
      "Epoch 3/20\n",
      "train Loss: 0.9482\n",
      "val Loss: 0.9416\n",
      "Epoch 4/20\n",
      "train Loss: 0.9420\n",
      "val Loss: 0.9374\n",
      "Epoch 5/20\n",
      "train Loss: 0.9384\n",
      "val Loss: 0.9342\n",
      "Epoch 6/20\n",
      "train Loss: 0.9353\n",
      "val Loss: 0.9301\n",
      "Epoch 7/20\n",
      "train Loss: 0.9317\n",
      "val Loss: 0.9280\n",
      "Epoch 8/20\n",
      "train Loss: 0.9300\n",
      "val Loss: 0.9266\n",
      "Epoch 9/20\n",
      "train Loss: 0.9287\n",
      "val Loss: 0.9257\n",
      "Epoch 10/20\n",
      "train Loss: 0.9279\n",
      "val Loss: 0.9251\n",
      "Epoch 11/20\n",
      "train Loss: 0.9271\n",
      "val Loss: 0.9242\n",
      "Epoch 12/20\n",
      "train Loss: 0.9265\n",
      "val Loss: 0.9237\n",
      "Epoch 13/20\n",
      "train Loss: 0.9260\n",
      "val Loss: 0.9233\n",
      "Epoch 14/20\n",
      "train Loss: 0.9254\n",
      "val Loss: 0.9225\n",
      "Epoch 15/20\n",
      "train Loss: 0.9247\n",
      "val Loss: 0.9217\n",
      "Epoch 16/20\n",
      "train Loss: 0.9241\n",
      "val Loss: 0.9216\n",
      "Epoch 17/20\n",
      "train Loss: 0.9236\n",
      "val Loss: 0.9208\n",
      "Epoch 18/20\n",
      "train Loss: 0.9231\n",
      "val Loss: 0.9207\n",
      "Epoch 19/20\n",
      "train Loss: 0.9225\n",
      "val Loss: 0.9196\n",
      "Epoch 20/20\n",
      "train Loss: 0.9217\n",
      "val Loss: 0.9198\n"
     ]
    }
   ],
   "execution_count": 3
  },
  {
   "metadata": {
    "ExecuteTime": {
     "end_time": "2024-12-04T14:11:54.662637Z",
     "start_time": "2024-12-04T14:11:52.249748Z"
    }
   },
   "cell_type": "code",
   "source": [
    "test_loss = evaluate_model(\n",
    "    writer=writer,\n",
    "    model=trained_model,\n",
    "    test_loader=test_loader,\n",
    "    compute_loss=compute_loss_autoencoder,\n",
    "    device=device\n",
    ")"
   ],
   "id": "fd6b0ddaf92ea874",
   "outputs": [
    {
     "name": "stdout",
     "output_type": "stream",
     "text": [
      "Test Loss: 0.9079\n"
     ]
    }
   ],
   "execution_count": 4
  },
  {
   "metadata": {
    "ExecuteTime": {
     "end_time": "2024-12-04T14:11:54.852759Z",
     "start_time": "2024-12-04T14:11:54.664877Z"
    }
   },
   "cell_type": "code",
   "source": [
    "import matplotlib.pyplot as plt \n",
    "\n",
    "trained_model.eval()  # Set model to evaluation mode\n",
    "\n",
    "# Visualization\n",
    "dataiter = iter(test_loader)\n",
    "images, _ = next(dataiter)\n",
    "images = images.to(device)\n",
    "\n",
    "with torch.no_grad():\n",
    "    reconstructed = trained_model(images)\n",
    "\n",
    "images = images.cpu()\n",
    "reconstructed = reconstructed.cpu()\n",
    "n_visualize = 5\n",
    "\n",
    "plt.figure(figsize=(10, 4.5))\n",
    "for i in range(n_visualize):\n",
    "    # Original images\n",
    "    ax = plt.subplot(2, n_visualize, i + 1)\n",
    "    plt.imshow(images[i].permute(1, 2, 0))\n",
    "    plt.title(\"Original\")\n",
    "    plt.axis('off')\n",
    "\n",
    "    # Reconstructed images\n",
    "    ax = plt.subplot(2, n_visualize, i + 1 + n_visualize)\n",
    "    plt.imshow(reconstructed[i].permute(1, 2, 0))\n",
    "    plt.title(\"Reconstructed\")\n",
    "    plt.axis('off')\n",
    "\n",
    "plt.show()"
   ],
   "id": "4685b8f09385d75d",
   "outputs": [
    {
     "name": "stderr",
     "output_type": "stream",
     "text": [
      "Clipping input data to the valid range for imshow with RGB data ([0..1] for floats or [0..255] for integers). Got range [-2.1770618..2.6952004].\n",
      "Clipping input data to the valid range for imshow with RGB data ([0..1] for floats or [0..255] for integers). Got range [-2.4290657..2.5976489].\n",
      "Clipping input data to the valid range for imshow with RGB data ([0..1] for floats or [0..255] for integers). Got range [-2.351526..2.6952004].\n",
      "Clipping input data to the valid range for imshow with RGB data ([0..1] for floats or [0..255] for integers). Got range [-1.7692488..2.3440151].\n",
      "Clipping input data to the valid range for imshow with RGB data ([0..1] for floats or [0..255] for integers). Got range [-2.2933714..1.908451].\n"
     ]
    },
    {
     "data": {
      "text/plain": [
       "<Figure size 1000x450 with 10 Axes>"
      ],
      "image/png": "[encoded data removed]"
     },
     "metadata": {},
     "output_type": "display_data"
    }
   ],
   "execution_count": 5
  },
  {
   "metadata": {
    "ExecuteTime": {
     "end_time": "2024-12-04T14:11:54.855441Z",
     "start_time": "2024-12-04T14:11:54.853695Z"
    }
   },
   "cell_type": "code",
   "source": "",
   "id": "790fb322868ca921",
   "outputs": [],
   "execution_count": 5
  },
  {
   "metadata": {
    "ExecuteTime": {
     "end_time": "2024-12-04T14:11:54.857694Z",
     "start_time": "2024-12-04T14:11:54.856235Z"
    }
   },
   "cell_type": "code",
   "source": "",
   "id": "700c636650802707",
   "outputs": [],
   "execution_count": 5
  }
 ],
 "metadata": {
  "kernelspec": {
   "display_name": "Python 3",
   "language": "python",
   "name": "python3"
  },
  "language_info": {
   "codemirror_mode": {
    "name": "ipython",
    "version": 2
   },
   "file_extension": ".py",
   "mimetype": "text/x-python",
   "name": "python",
   "nbconvert_exporter": "python",
   "pygments_lexer": "ipython2",
   "version": "2.7.6"
  }
 },
 "nbformat": 4,
 "nbformat_minor": 5
}
